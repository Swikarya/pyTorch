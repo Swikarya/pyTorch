{
  "cells": [
    {
      "cell_type": "markdown",
      "metadata": {
        "id": "AzDBM_v4iMe7"
      },
      "source": [
        "# 00. PyTorch Fundamentals Exercises\n",
        "\n",
        "### 1. Documentation reading\n",
        "\n",
        "A big part of deep learning (and learning to code in general) is getting familiar with the documentation of a certain framework you're using. We'll be using the PyTorch documentation a lot throughout the rest of this course. So I'd recommend spending 10-minutes reading the following (it's okay if you don't get some things for now, the focus is not yet full understanding, it's awareness):\n",
        "  * The documentation on [`torch.Tensor`](https://pytorch.org/docs/stable/tensors.html#torch-tensor).\n",
        "  * The documentation on [`torch.cuda`](https://pytorch.org/docs/master/notes/cuda.html#cuda-semantics).\n",
        "\n"
      ]
    },
    {
      "cell_type": "code",
      "execution_count": null,
      "metadata": {
        "id": "bGD0oD8Kizak"
      },
      "outputs": [],
      "source": [
        "# No code solution (reading)"
      ]
    },
    {
      "cell_type": "markdown",
      "metadata": {
        "id": "__iXqqz-ioUJ"
      },
      "source": [
        "### 2. Create a random tensor with shape `(7, 7)`.\n"
      ]
    },
    {
      "cell_type": "code",
      "execution_count": 7,
      "metadata": {
        "colab": {
          "base_uri": "https://localhost:8080/"
        },
        "id": "6pUq9Dc8i2L7",
        "outputId": "ce8d56b9-667c-4c0e-b395-9ef3b217c3a0"
      },
      "outputs": [
        {
          "data": {
            "text/plain": [
              "tensor([[0.7749, 0.8208, 0.2793, 0.6817, 0.2837, 0.6567, 0.2388],\n",
              "        [0.7313, 0.6012, 0.3043, 0.2548, 0.6294, 0.9665, 0.7399],\n",
              "        [0.4517, 0.4757, 0.7842, 0.1525, 0.6662, 0.3343, 0.7893],\n",
              "        [0.3216, 0.5247, 0.6688, 0.8436, 0.4265, 0.9561, 0.0770],\n",
              "        [0.4108, 0.0014, 0.5414, 0.6419, 0.2976, 0.7077, 0.4189],\n",
              "        [0.0655, 0.8839, 0.8083, 0.7528, 0.8988, 0.6839, 0.7658],\n",
              "        [0.9149, 0.3993, 0.1100, 0.2541, 0.4333, 0.4451, 0.4966]])"
            ]
          },
          "execution_count": 7,
          "metadata": {},
          "output_type": "execute_result"
        }
      ],
      "source": [
        "# Import torch\n",
        "import torch\n",
        "\n",
        "from IPython.core.interactiveshell import InteractiveShell\n",
        "InteractiveShell.ast_node_interactivity = \"all\"\n",
        "\n",
        "# Create random tensor\n",
        "random_one = torch.rand([7,7])\n",
        "random_one\n"
      ]
    },
    {
      "cell_type": "markdown",
      "metadata": {
        "id": "9-XxvRLfiqkR"
      },
      "source": [
        "### 3. Perform a matrix multiplication on the tensor from 2 with another random tensor with shape `(1, 7)` (hint: you may have to transpose the second tensor)."
      ]
    },
    {
      "cell_type": "code",
      "execution_count": null,
      "metadata": {
        "id": "NcLqR0Sbi_vT"
      },
      "outputs": [],
      "source": [
        "# Create another random tensor\n",
        "random_two = torch.rand([1,7])\n",
        "random_two = random_two.permute(*torch.arange(random_two.ndim - 1, -1, -1))\n",
        "\n",
        "# Perform matrix multiplication\n",
        "random_one @ random_two"
      ]
    },
    {
      "cell_type": "markdown",
      "metadata": {
        "id": "eiutdKUFiryU"
      },
      "source": [
        "### 4. Set the random seed to `0` and do 2 & 3 over again.\n",
        "\n",
        "The output should be:\n",
        "```\n",
        "(tensor([[1.8542],\n",
        "         [1.9611],\n",
        "         [2.2884],\n",
        "         [3.0481],\n",
        "         [1.7067],\n",
        "         [2.5290],\n",
        "         [1.7989]]), torch.Size([7, 1]))\n",
        "```"
      ]
    },
    {
      "cell_type": "code",
      "execution_count": null,
      "metadata": {
        "id": "D-lOWI_1jRMm"
      },
      "outputs": [],
      "source": [
        "# Set manual seed\n",
        "torch.manual_seed(0)\n",
        "\n",
        "# Create two random tensors\n",
        "rone = torch.rand([7,7])\n",
        "rtwo = torch.rand([7,1])\n",
        "\n",
        "# Matrix multiply tensors\n",
        "rone @ rtwo"
      ]
    },
    {
      "cell_type": "markdown",
      "metadata": {
        "id": "ezY6ks9Cis37"
      },
      "source": [
        "### 5. Speaking of random seeds, we saw how to set it with `torch.manual_seed()` but is there a GPU equivalent? (hint: you'll need to look into the documentation for `torch.cuda` for this one)\n",
        "  * If there is, set the GPU random seed to `1234`."
      ]
    },
    {
      "cell_type": "code",
      "execution_count": 3,
      "metadata": {
        "id": "_LKWcfSTjp00"
      },
      "outputs": [],
      "source": [
        "# Set random seed on the GPU\n",
        "if torch.cuda.is_available:\n",
        "  torch.cuda.manual_seed(1234)"
      ]
    },
    {
      "cell_type": "markdown",
      "metadata": {
        "id": "Ir9qSaj6it4n"
      },
      "source": [
        "\n",
        "### 6. Create two random tensors of shape `(2, 3)` and send them both to the GPU (you'll need access to a GPU for this). Set `torch.manual_seed(1234)` when creating the tensors (this doesn't have to be the GPU random seed). The output should be something like:\n",
        "\n",
        "```\n",
        "Device: cuda\n",
        "(tensor([[0.0290, 0.4019, 0.2598],\n",
        "         [0.3666, 0.0583, 0.7006]], device='cuda:0'),\n",
        " tensor([[0.0518, 0.4681, 0.6738],\n",
        "         [0.3315, 0.7837, 0.5631]], device='cuda:0'))\n",
        "```"
      ]
    },
    {
      "cell_type": "code",
      "execution_count": 12,
      "metadata": {
        "colab": {
          "base_uri": "https://localhost:8080/"
        },
        "id": "azXExiFZj5nm",
        "outputId": "9aef0cf0-ed54-4cf8-e9ed-4d854f72e6e3"
      },
      "outputs": [
        {
          "name": "stdout",
          "output_type": "stream",
          "text": [
            "Device:  cuda\n"
          ]
        },
        {
          "data": {
            "text/plain": [
              "True"
            ]
          },
          "execution_count": 12,
          "metadata": {},
          "output_type": "execute_result"
        },
        {
          "data": {
            "text/plain": [
              "<torch._C.Generator at 0x78e74c1a1470>"
            ]
          },
          "execution_count": 12,
          "metadata": {},
          "output_type": "execute_result"
        },
        {
          "data": {
            "text/plain": [
              "tensor([[0.0290, 0.4019, 0.2598],\n",
              "        [0.3666, 0.0583, 0.7006]], device='cuda:0')"
            ]
          },
          "execution_count": 12,
          "metadata": {},
          "output_type": "execute_result"
        },
        {
          "data": {
            "text/plain": [
              "tensor([[0.0518, 0.3315],\n",
              "        [0.4681, 0.7837],\n",
              "        [0.6738, 0.5631]], device='cuda:0')"
            ]
          },
          "execution_count": 12,
          "metadata": {},
          "output_type": "execute_result"
        },
        {
          "name": "stdout",
          "output_type": "stream",
          "text": [
            "\n",
            "\n"
          ]
        },
        {
          "data": {
            "text/plain": [
              "tensor([[0.0290, 0.4019, 0.2598],\n",
              "        [0.3666, 0.0583, 0.7006]])"
            ]
          },
          "execution_count": 12,
          "metadata": {},
          "output_type": "execute_result"
        },
        {
          "name": "stdout",
          "output_type": "stream",
          "text": [
            "\n",
            "\n"
          ]
        },
        {
          "data": {
            "text/plain": [
              "tensor([[0.0518, 0.3315],\n",
              "        [0.4681, 0.7837],\n",
              "        [0.6738, 0.5631]])"
            ]
          },
          "execution_count": 12,
          "metadata": {},
          "output_type": "execute_result"
        }
      ],
      "source": [
        "# Set random seed\n",
        "print(\"Device:  cuda\")\n",
        "\n",
        "# Check for access to GPU\n",
        "torch.cuda.is_available()\n",
        "# Create two random tensors on GPU\n",
        "if torch.cuda.is_available():\n",
        "    torch.manual_seed(1234)\n",
        "    random_one = torch.rand([2,3])\n",
        "    random_two = torch.rand([2,3])\n",
        "    random_two = random_two.permute(*torch.arange(random_two.ndim - 1,-1, -1))\n",
        "    random_one.cuda()\n",
        "    random_two.cuda()\n",
        "    print(\"\\n\")\n",
        "    random_one\n",
        "    print(\"\\n\")\n",
        "    random_two"
      ]
    },
    {
      "cell_type": "markdown",
      "metadata": {
        "id": "5TlAxeiSiu1y"
      },
      "source": [
        "\n",
        "### 7. Perform a matrix multiplication on the tensors you created in 6 (again, you may have to adjust the shapes of one of the tensors).\n",
        "\n",
        "The output should look like:\n",
        "```\n",
        "(tensor([[0.3647, 0.4709],\n",
        "         [0.5184, 0.5617]], device='cuda:0'), torch.Size([2, 2]))\n",
        "```"
      ]
    },
    {
      "cell_type": "code",
      "execution_count": 18,
      "metadata": {
        "colab": {
          "base_uri": "https://localhost:8080/"
        },
        "id": "fAeG7ox0lHEO",
        "outputId": "dbb7bd2f-c105-4efc-f7b7-2a94d1ee36c7"
      },
      "outputs": [
        {
          "data": {
            "text/plain": [
              "tensor([[0.3647, 0.4709],\n",
              "        [0.5184, 0.5617]])"
            ]
          },
          "execution_count": 18,
          "metadata": {},
          "output_type": "execute_result"
        }
      ],
      "source": [
        "# Perform matmul on tensor_A and tensor_B\n",
        "matmulp = random_one @ random_two\n",
        "matmulp"
      ]
    },
    {
      "cell_type": "markdown",
      "metadata": {
        "id": "G7qfa5CSivwg"
      },
      "source": [
        "### 8. Find the maximum and minimum values of the output of 7."
      ]
    },
    {
      "cell_type": "code",
      "execution_count": 19,
      "metadata": {
        "colab": {
          "base_uri": "https://localhost:8080/"
        },
        "id": "Fu8_3mZpllOd",
        "outputId": "2ae12f29-389d-4093-999a-d26eefe5af0c"
      },
      "outputs": [
        {
          "data": {
            "text/plain": [
              "tensor(0.5617)"
            ]
          },
          "execution_count": 19,
          "metadata": {},
          "output_type": "execute_result"
        },
        {
          "data": {
            "text/plain": [
              "tensor(0.3647)"
            ]
          },
          "execution_count": 19,
          "metadata": {},
          "output_type": "execute_result"
        }
      ],
      "source": [
        "# Find max\n",
        "matmulp.max()\n",
        "# Find min\n",
        "matmulp.min()"
      ]
    },
    {
      "cell_type": "markdown",
      "metadata": {
        "id": "wrTj5FgNiw47"
      },
      "source": [
        "### 9. Find the maximum and minimum index values of the output of 7."
      ]
    },
    {
      "cell_type": "code",
      "execution_count": 20,
      "metadata": {
        "colab": {
          "base_uri": "https://localhost:8080/"
        },
        "id": "CCEKt4K2lsfQ",
        "outputId": "f7073197-d39c-4c3b-856e-b83250259199"
      },
      "outputs": [
        {
          "data": {
            "text/plain": [
              "tensor(3)"
            ]
          },
          "execution_count": 20,
          "metadata": {},
          "output_type": "execute_result"
        },
        {
          "data": {
            "text/plain": [
              "tensor(0)"
            ]
          },
          "execution_count": 20,
          "metadata": {},
          "output_type": "execute_result"
        }
      ],
      "source": [
        "# Find arg max\n",
        "matmulp.argmax()\n",
        "# Find arg min\n",
        "matmulp.argmin()"
      ]
    },
    {
      "cell_type": "markdown",
      "metadata": {
        "id": "hmeybz4uixy7"
      },
      "source": [
        "\n",
        "### 10. Make a random tensor with shape `(1, 1, 1, 10)` and then create a new tensor with all the `1` dimensions removed to be left with a tensor of shape `(10)`. Set the seed to `7` when you create it and print out the first tensor and it's shape as well as the second tensor and it's shape.\n",
        "\n",
        "The output should look like:\n",
        "\n",
        "```\n",
        "tensor([[[[0.5349, 0.1988, 0.6592, 0.6569, 0.2328, 0.4251, 0.2071, 0.6297,\n",
        "           0.3653, 0.8513]]]]) torch.Size([1, 1, 1, 10])\n",
        "tensor([0.5349, 0.1988, 0.6592, 0.6569, 0.2328, 0.4251, 0.2071, 0.6297, 0.3653,\n",
        "        0.8513]) torch.Size([10])\n",
        "```"
      ]
    },
    {
      "cell_type": "code",
      "execution_count": 21,
      "metadata": {
        "colab": {
          "base_uri": "https://localhost:8080/"
        },
        "id": "TQ9zbRzVl1jV",
        "outputId": "c31bb8b6-ac24-4e03-9531-bac52087ce90"
      },
      "outputs": [
        {
          "data": {
            "text/plain": [
              "<torch._C.Generator at 0x78e74c1a1470>"
            ]
          },
          "execution_count": 21,
          "metadata": {},
          "output_type": "execute_result"
        },
        {
          "data": {
            "text/plain": [
              "(tensor([[[[0.5349, 0.1988, 0.6592, 0.6569, 0.2328, 0.4251, 0.2071, 0.6297,\n",
              "            0.3653, 0.8513]]]]),\n",
              " torch.Size([1, 1, 1, 10]))"
            ]
          },
          "execution_count": 21,
          "metadata": {},
          "output_type": "execute_result"
        },
        {
          "data": {
            "text/plain": [
              "(tensor([0.5349, 0.1988, 0.6592, 0.6569, 0.2328, 0.4251, 0.2071, 0.6297, 0.3653,\n",
              "         0.8513]),\n",
              " torch.Size([10]))"
            ]
          },
          "execution_count": 21,
          "metadata": {},
          "output_type": "execute_result"
        }
      ],
      "source": [
        "# Set seed\n",
        "torch.manual_seed(7)\n",
        "\n",
        "# Create random tensor\n",
        "random = torch.rand([1,1,1,10])\n",
        "\n",
        "# Remove single dimensions\n",
        "squeezed = random.squeeze()\n",
        "\n",
        "# Print out tensors and their shapes\n",
        "random, random.shape\n",
        "squeezed, squeezed.shape"
      ]
    }
  ],
  "metadata": {
    "accelerator": "GPU",
    "colab": {
      "name": "00_pytorch_fundamentals_exercises.ipynb",
      "provenance": []
    },
    "kernelspec": {
      "display_name": "Python 3",
      "name": "python3"
    },
    "language_info": {
      "codemirror_mode": {
        "name": "ipython",
        "version": 3
      },
      "file_extension": ".py",
      "mimetype": "text/x-python",
      "name": "python",
      "nbconvert_exporter": "python",
      "pygments_lexer": "ipython3",
      "version": "3.11.5"
    }
  },
  "nbformat": 4,
  "nbformat_minor": 0
}
